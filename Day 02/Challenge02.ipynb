{
 "cells": [
  {
   "cell_type": "markdown",
   "id": "20cf4622-47c1-4d1b-ac98-6fa07a8d6919",
   "metadata": {},
   "source": [
    "# Day 2: Cube Conundrum"
   ]
  },
  {
   "cell_type": "markdown",
   "id": "9bcffd52-cf1c-4cd5-b09e-a026bdd3e5f8",
   "metadata": {},
   "source": [
    "## Read in test data"
   ]
  },
  {
   "cell_type": "code",
   "execution_count": 35,
   "id": "b8b18a4d-6a49-4603-9e2e-d05691a0bb5e",
   "metadata": {},
   "outputs": [],
   "source": [
    "import re"
   ]
  },
  {
   "cell_type": "code",
   "execution_count": 1,
   "id": "4c843fd1-1b7c-4147-8001-27cc2a133935",
   "metadata": {},
   "outputs": [],
   "source": [
    "# Read in dummy data\n",
    "d = \"\"\"Game 1: 3 blue, 4 red; 1 red, 2 green, 6 blue; 2 green\n",
    "Game 2: 1 blue, 2 green; 3 green, 4 blue, 1 red; 1 green, 1 blue\n",
    "Game 3: 8 green, 6 blue, 20 red; 5 blue, 4 red, 13 green; 5 green, 1 red\n",
    "Game 4: 1 green, 3 red, 6 blue; 3 green, 6 red; 3 green, 15 blue, 14 red\n",
    "Game 5: 6 red, 1 blue, 3 green; 2 blue, 1 red, 2 green\"\"\"\n",
    "instructions = d.split(\"\\n\")"
   ]
  },
  {
   "cell_type": "code",
   "execution_count": 6,
   "id": "b8807b13-a6a7-4ab7-8b2c-103e2890c596",
   "metadata": {},
   "outputs": [
    {
     "data": {
      "text/plain": [
       "['Game 1: 3 blue, 4 red; 1 red, 2 green, 6 blue; 2 green',\n",
       " 'Game 2: 1 blue, 2 green; 3 green, 4 blue, 1 red; 1 green, 1 blue',\n",
       " 'Game 3: 8 green, 6 blue, 20 red; 5 blue, 4 red, 13 green; 5 green, 1 red',\n",
       " 'Game 4: 1 green, 3 red, 6 blue; 3 green, 6 red; 3 green, 15 blue, 14 red',\n",
       " 'Game 5: 6 red, 1 blue, 3 green; 2 blue, 1 red, 2 green']"
      ]
     },
     "execution_count": 6,
     "metadata": {},
     "output_type": "execute_result"
    }
   ],
   "source": [
    "instructions"
   ]
  },
  {
   "cell_type": "markdown",
   "id": "dee62c85",
   "metadata": {},
   "source": [
    "# Challenge\n",
    "\n",
    "You're launched high into the atmosphere! The apex of your trajectory just barely reaches the surface of a large island floating in the sky. You gently land in a fluffy pile of leaves. It's quite cold, but you don't see much snow. An Elf runs over to greet you.\n",
    "\n",
    "The Elf explains that you've arrived at __Snow Island__ and apologizes for the lack of snow. He'll be happy to explain the situation, but it's a bit of a walk, so you have some time. They don't get many visitors up here; would you like to play a game in the meantime?\n",
    "\n",
    "As you walk, the Elf shows you a small bag and some cubes which are either red, green, or blue. Each time you play this game, he will hide a secret number of cubes of each color in the bag, and your goal is to figure out information about the number of cubes.\n",
    "\n",
    "To get information, once a bag has been loaded with cubes, the Elf will reach into the bag, grab a handful of random cubes, show them to you, and then put them back in the bag. He'll do this a few times per game.\n",
    "\n",
    "You play several games and record the information from each game (your puzzle input). Each game is listed with its ID number (like the 11 in Game 11: ...) followed by a semicolon-separated list of subsets of cubes that were revealed from the bag (like ```3 red, 5 green, 4 blue```).\n",
    "\n",
    "For example, the record of a few games might look like this:\n",
    "\n",
    "```Game 1: 3 blue, 4 red; 1 red, 2 green, 6 blue; 2 green```    \n",
    "```Game 2: 1 blue, 2 green; 3 green, 4 blue, 1 red; 1 green, 1 blue```    \n",
    "```Game 3: 8 green, 6 blue, 20 red; 5 blue, 4 red, 13 green; 5 green, 1 red```    \n",
    "```Game 4: 1 green, 3 red, 6 blue; 3 green, 6 red; 3 green, 15 blue, 14 red```   \n",
    "```Game 5: 6 red, 1 blue, 3 green; 2 blue, 1 red, 2 green```    \n",
    "\n",
    "In game 1, three sets of cubes are revealed from the bag (and then put back again). The first set is 3 blue cubes and 4 red cubes; the second set is 1 red cube, 2 green cubes, and 6 blue cubes; the third set is only 2 green cubes.\n",
    "\n",
    "The Elf would first like to know which games would have been possible if the bag contained __only 12 red cubes, 13 green cubes, and 14 blue cubes__?\n",
    "\n",
    "In the example above, games 1, 2, and 5 would have been __possible__ if the bag had been loaded with that configuration. However, game 3 would have been __impossible__ because at one point the Elf showed you 20 red cubes at once; similarly, game 4 would also have been __impossible__ because the Elf showed you 15 blue cubes at once. If you add up the IDs of the games that would have been possible, you get 8.\n",
    "\n",
    "Determine which games would have been possible if the bag had been loaded with only 12 red cubes, 13 green cubes, and 14 blue cubes. __What is the sum of the IDs of those games?__"
   ]
  },
  {
   "cell_type": "code",
   "execution_count": 27,
   "id": "3f1e9809-4dca-4959-8f8e-9919eb8cbf9e",
   "metadata": {},
   "outputs": [
    {
     "name": "stdout",
     "output_type": "stream",
     "text": [
      "GameID  Game 1  Games   3 blue, 4 red; 1 red, 2 green, 6 blue; 2 green\n"
     ]
    }
   ],
   "source": [
    "# Solution space\n",
    "Games = [game.split(\":\")[1] for game in instructions]"
   ]
  },
  {
   "cell_type": "code",
   "execution_count": 82,
   "id": "d52aa055-ac25-4ede-8096-382b3a7af111",
   "metadata": {},
   "outputs": [
    {
     "data": {
      "text/plain": [
       "[' 3 blue, 4 red; 1 red, 2 green, 6 blue; 2 green',\n",
       " ' 1 blue, 2 green; 3 green, 4 blue, 1 red; 1 green, 1 blue',\n",
       " ' 8 green, 6 blue, 20 red; 5 blue, 4 red, 13 green; 5 green, 1 red',\n",
       " ' 1 green, 3 red, 6 blue; 3 green, 6 red; 3 green, 15 blue, 14 red',\n",
       " ' 6 red, 1 blue, 3 green; 2 blue, 1 red, 2 green']"
      ]
     },
     "execution_count": 82,
     "metadata": {},
     "output_type": "execute_result"
    }
   ],
   "source": [
    "Games"
   ]
  },
  {
   "cell_type": "code",
   "execution_count": 128,
   "id": "70c87f49-b851-4a8f-be94-77cd776cd8ea",
   "metadata": {},
   "outputs": [
    {
     "name": "stdout",
     "output_type": "stream",
     "text": [
      "Success on game:  1\n",
      "Success on game:  2\n",
      "fail: game number  3\n",
      "fail: game number  4\n",
      "Success on game:  5\n",
      "8\n"
     ]
    }
   ],
   "source": [
    "conditions = {\"red\": 12, \"blue\": 14, \"green\": 13}\n",
    "IDSum = 0\n",
    "\n",
    "\n",
    "for i in range(len(Games)):\n",
    "    failure = False\n",
    "    #print(Games[i])\n",
    "    for game in Games[i].split(\";\"):\n",
    "        #print(game)\n",
    "        count = re.findall(\"\\d+\", game)\n",
    "        colour = re.findall(\"red|blue|green\", game)\n",
    "        #fail\n",
    "        if True in [int(draw) > conditions[colour] for draw, colour in zip(count,colour)]:\n",
    "            print(\"fail: game number \", i+1)\n",
    "            failure = True\n",
    "            break\n",
    "    if failure:\n",
    "        pass\n",
    "    else:\n",
    "        IDSum += i+1\n",
    "        print(\"Success on game: \", i+1)\n",
    "        \n",
    "    #break\n",
    "print(IDSum)"
   ]
  },
  {
   "cell_type": "code",
   "execution_count": 52,
   "id": "d7496a02-aabc-4f85-8e6c-0a0ed3567bd1",
   "metadata": {},
   "outputs": [
    {
     "data": {
      "text/plain": [
       "[14, 13]"
      ]
     },
     "execution_count": 52,
     "metadata": {},
     "output_type": "execute_result"
    }
   ],
   "source": [
    "[conditions[c] for c in [\"blue\", \"green\"]]"
   ]
  },
  {
   "cell_type": "markdown",
   "id": "f6caf359-9119-4c5e-b3ff-a602d4e2f330",
   "metadata": {},
   "source": [
    "### The Elf would first like to know which games would have been possible if the bag contained only 12 red cubes, 13 green cubes, and 14 blue cubes?"
   ]
  },
  {
   "cell_type": "markdown",
   "id": "2fbda7b7-3f5b-4432-9938-49b2b03dc260",
   "metadata": {},
   "source": [
    "# Actual data"
   ]
  },
  {
   "cell_type": "code",
   "execution_count": 152,
   "id": "43e53d00-a775-431d-9466-db27a13cffce",
   "metadata": {},
   "outputs": [],
   "source": [
    "# Load actual data\n",
    "file = \"challenge 02 input.txt\"\n",
    "with open(file) as f:\n",
    "    challenge2Data = f.read().split(\"\\n\")\n",
    "\n"
   ]
  },
  {
   "cell_type": "code",
   "execution_count": 153,
   "id": "6dbaebf5-24c8-4613-9351-49b544c82570",
   "metadata": {},
   "outputs": [],
   "source": [
    "instructions = challenge2Data"
   ]
  },
  {
   "cell_type": "code",
   "execution_count": 157,
   "id": "d15f6f51-fd44-45fd-9655-6c0708688a28",
   "metadata": {},
   "outputs": [],
   "source": [
    "Games = [game.split(\":\")[1] for game in instructions]"
   ]
  },
  {
   "cell_type": "code",
   "execution_count": 160,
   "id": "17293a49-b1dd-4cbd-a723-69d79e0c3bd5",
   "metadata": {},
   "outputs": [
    {
     "name": "stdout",
     "output_type": "stream",
     "text": [
      "2207\n"
     ]
    }
   ],
   "source": [
    "conditions = {\"red\": 12, \"blue\": 14, \"green\": 13}\n",
    "IDSum = 0\n",
    "\n",
    "\n",
    "for i in range(len(Games)):\n",
    "    failure = False\n",
    "    #print(Games[i])\n",
    "    for game in Games[i].split(\";\"):\n",
    "        #print(game)\n",
    "        count = re.findall(\"\\d+\", game)\n",
    "        colour = re.findall(\"red|blue|green\", game)\n",
    "        #fail\n",
    "        if True in [int(draw) > conditions[colour] for draw, colour in zip(count,colour)]:\n",
    "            #print(\"fail: game number \", i+1)\n",
    "            failure = True\n",
    "            break\n",
    "    if failure:\n",
    "        pass\n",
    "    else:\n",
    "        IDSum += i+1\n",
    "        #print(\"Success on game: \", i+1)\n",
    "        \n",
    "    #break\n",
    "print(IDSum)"
   ]
  },
  {
   "cell_type": "markdown",
   "id": "cdd50de0-0766-4d05-8892-4dec20cfd07d",
   "metadata": {},
   "source": [
    "# Part 2"
   ]
  },
  {
   "cell_type": "code",
   "execution_count": 195,
   "id": "806797b6",
   "metadata": {},
   "outputs": [
    {
     "name": "stdout",
     "output_type": "stream",
     "text": [
      "{'red': 15, 'blue': 6, 'green': 18}\n",
      "1620\n",
      "{'red': 10, 'blue': 1, 'green': 13}\n",
      "130\n",
      "{'red': 2, 'blue': 1, 'green': 7}\n",
      "14\n",
      "{'red': 5, 'blue': 14, 'green': 9}\n",
      "630\n",
      "{'red': 5, 'blue': 12, 'green': 12}\n",
      "720\n",
      "{'red': 1, 'blue': 8, 'green': 17}\n",
      "136\n",
      "{'red': 2, 'blue': 3, 'green': 3}\n",
      "18\n",
      "{'red': 12, 'blue': 15, 'green': 3}\n",
      "540\n",
      "{'red': 16, 'blue': 10, 'green': 4}\n",
      "640\n",
      "{'red': 9, 'blue': 7, 'green': 12}\n",
      "756\n",
      "{'red': 7, 'blue': 6, 'green': 9}\n",
      "378\n",
      "{'red': 4, 'blue': 12, 'green': 18}\n",
      "864\n",
      "{'red': 2, 'blue': 5, 'green': 16}\n",
      "160\n",
      "{'red': 1, 'blue': 5, 'green': 4}\n",
      "20\n",
      "{'red': 5, 'blue': 12, 'green': 2}\n",
      "120\n",
      "{'red': 8, 'blue': 15, 'green': 4}\n",
      "480\n",
      "{'red': 12, 'blue': 2, 'green': 9}\n",
      "216\n",
      "{'red': 11, 'blue': 7, 'green': 3}\n",
      "231\n",
      "{'red': 15, 'blue': 11, 'green': 6}\n",
      "990\n",
      "{'red': 4, 'blue': 2, 'green': 9}\n",
      "72\n",
      "{'red': 3, 'blue': 11, 'green': 13}\n",
      "429\n",
      "{'red': 11, 'blue': 8, 'green': 8}\n",
      "704\n",
      "{'red': 3, 'blue': 2, 'green': 1}\n",
      "6\n",
      "{'red': 4, 'blue': 5, 'green': 12}\n",
      "240\n",
      "{'red': 5, 'blue': 4, 'green': 9}\n",
      "180\n",
      "{'red': 7, 'blue': 11, 'green': 2}\n",
      "154\n",
      "{'red': 7, 'blue': 7, 'green': 15}\n",
      "735\n",
      "{'red': 14, 'blue': 7, 'green': 11}\n",
      "1078\n",
      "{'red': 12, 'blue': 6, 'green': 6}\n",
      "432\n",
      "{'red': 11, 'blue': 11, 'green': 13}\n",
      "1573\n",
      "{'red': 8, 'blue': 2, 'green': 14}\n",
      "224\n",
      "{'red': 4, 'blue': 14, 'green': 14}\n",
      "784\n",
      "{'red': 12, 'blue': 5, 'green': 1}\n",
      "60\n",
      "{'red': 5, 'blue': 3, 'green': 1}\n",
      "15\n",
      "{'red': 2, 'blue': 8, 'green': 8}\n",
      "128\n",
      "{'red': 8, 'blue': 13, 'green': 14}\n",
      "1456\n",
      "{'red': 11, 'blue': 2, 'green': 14}\n",
      "308\n",
      "{'red': 19, 'blue': 17, 'green': 6}\n",
      "1938\n",
      "{'red': 17, 'blue': 10, 'green': 1}\n",
      "170\n",
      "{'red': 8, 'blue': 9, 'green': 6}\n",
      "432\n",
      "{'red': 10, 'blue': 5, 'green': 6}\n",
      "300\n",
      "{'red': 7, 'blue': 7, 'green': 5}\n",
      "245\n",
      "{'red': 18, 'blue': 8, 'green': 4}\n",
      "576\n",
      "{'red': 5, 'blue': 6, 'green': 14}\n",
      "420\n",
      "{'red': 12, 'blue': 7, 'green': 16}\n",
      "1344\n",
      "{'red': 12, 'blue': 17, 'green': 3}\n",
      "612\n",
      "{'red': 10, 'blue': 3, 'green': 15}\n",
      "450\n",
      "{'red': 13, 'blue': 15, 'green': 13}\n",
      "2535\n",
      "{'red': 7, 'blue': 15, 'green': 2}\n",
      "210\n",
      "{'red': 10, 'blue': 2, 'green': 5}\n",
      "100\n",
      "{'red': 6, 'blue': 7, 'green': 4}\n",
      "168\n",
      "{'red': 12, 'blue': 3, 'green': 18}\n",
      "648\n",
      "{'red': 8, 'blue': 13, 'green': 2}\n",
      "208\n",
      "{'red': 17, 'blue': 15, 'green': 16}\n",
      "4080\n",
      "{'red': 8, 'blue': 4, 'green': 10}\n",
      "320\n",
      "{'red': 12, 'blue': 7, 'green': 8}\n",
      "672\n",
      "{'red': 7, 'blue': 10, 'green': 20}\n",
      "1400\n",
      "{'red': 8, 'blue': 11, 'green': 7}\n",
      "616\n",
      "{'red': 7, 'blue': 18, 'green': 10}\n",
      "1260\n",
      "{'red': 14, 'blue': 13, 'green': 18}\n",
      "3276\n",
      "{'red': 2, 'blue': 5, 'green': 12}\n",
      "120\n",
      "{'red': 13, 'blue': 17, 'green': 4}\n",
      "884\n",
      "{'red': 7, 'blue': 11, 'green': 10}\n",
      "770\n",
      "{'red': 13, 'blue': 12, 'green': 1}\n",
      "156\n",
      "{'red': 9, 'blue': 11, 'green': 3}\n",
      "297\n",
      "{'red': 8, 'blue': 3, 'green': 12}\n",
      "288\n",
      "{'red': 6, 'blue': 12, 'green': 14}\n",
      "1008\n",
      "{'red': 17, 'blue': 1, 'green': 14}\n",
      "238\n",
      "{'red': 14, 'blue': 6, 'green': 3}\n",
      "252\n",
      "{'red': 13, 'blue': 18, 'green': 1}\n",
      "234\n",
      "{'red': 8, 'blue': 6, 'green': 7}\n",
      "336\n",
      "{'red': 4, 'blue': 4, 'green': 12}\n",
      "192\n",
      "{'red': 12, 'blue': 6, 'green': 14}\n",
      "1008\n",
      "{'red': 5, 'blue': 12, 'green': 5}\n",
      "300\n",
      "{'red': 11, 'blue': 7, 'green': 17}\n",
      "1309\n",
      "{'red': 12, 'blue': 12, 'green': 10}\n",
      "1440\n",
      "{'red': 13, 'blue': 2, 'green': 17}\n",
      "442\n",
      "{'red': 6, 'blue': 6, 'green': 8}\n",
      "288\n",
      "{'red': 19, 'blue': 5, 'green': 1}\n",
      "95\n",
      "{'red': 15, 'blue': 1, 'green': 1}\n",
      "15\n",
      "{'red': 1, 'blue': 2, 'green': 4}\n",
      "8\n",
      "{'red': 11, 'blue': 8, 'green': 4}\n",
      "352\n",
      "{'red': 14, 'blue': 10, 'green': 15}\n",
      "2100\n",
      "{'red': 12, 'blue': 6, 'green': 5}\n",
      "360\n",
      "{'red': 4, 'blue': 2, 'green': 15}\n",
      "120\n",
      "{'red': 11, 'blue': 4, 'green': 4}\n",
      "176\n",
      "{'red': 12, 'blue': 16, 'green': 10}\n",
      "1920\n",
      "{'red': 1, 'blue': 16, 'green': 8}\n",
      "128\n",
      "{'red': 10, 'blue': 20, 'green': 6}\n",
      "1200\n",
      "{'red': 11, 'blue': 9, 'green': 9}\n",
      "891\n",
      "{'red': 3, 'blue': 13, 'green': 13}\n",
      "507\n",
      "{'red': 9, 'blue': 15, 'green': 1}\n",
      "135\n",
      "{'red': 17, 'blue': 9, 'green': 2}\n",
      "306\n",
      "{'red': 3, 'blue': 8, 'green': 19}\n",
      "456\n",
      "{'red': 10, 'blue': 18, 'green': 12}\n",
      "2160\n",
      "{'red': 9, 'blue': 10, 'green': 1}\n",
      "90\n",
      "{'red': 11, 'blue': 1, 'green': 3}\n",
      "33\n",
      "{'red': 13, 'blue': 4, 'green': 13}\n",
      "676\n",
      "{'red': 14, 'blue': 11, 'green': 5}\n",
      "770\n",
      "{'red': 16, 'blue': 12, 'green': 5}\n",
      "960\n",
      "62241\n"
     ]
    }
   ],
   "source": [
    "minColours = {\"red\": 0, \"blue\": 0, \"green\": 0}\n",
    "IDSum = 0\n",
    "total = 0\n",
    "\n",
    "for i in range(len(Games)):\n",
    "    minColours = {\"red\": 0, \"blue\": 0, \"green\": 0}\n",
    "    #print(Games[i])\n",
    "    for game in Games[i].split(\";\"):\n",
    "\n",
    "        count = re.findall(\"\\d+\", game)\n",
    "        colour = re.findall(\"red|blue|green\", game)\n",
    "        \n",
    "        for c, col in zip(count, colour):\n",
    "            if minColours[col] < int(c):\n",
    "                minColours[col] = int(c)\n",
    "                #print(\"new value = \", int(c))\n",
    "        value = minColours['red'] * minColours['blue'] * minColours['green']\n",
    "        \n",
    "    print(minColours)\n",
    "    print(value)\n",
    "    total += value\n",
    "    \n",
    "    #break\n",
    "print(total)"
   ]
  },
  {
   "cell_type": "markdown",
   "id": "b34096b1-b787-43cf-a9fc-9ee678ab828a",
   "metadata": {},
   "source": [
    "## Part 2 real data"
   ]
  },
  {
   "cell_type": "code",
   "execution_count": null,
   "id": "3e3712ad",
   "metadata": {},
   "outputs": [],
   "source": []
  },
  {
   "cell_type": "code",
   "execution_count": null,
   "id": "44e10ded",
   "metadata": {},
   "outputs": [],
   "source": []
  },
  {
   "cell_type": "code",
   "execution_count": null,
   "id": "26133b08",
   "metadata": {},
   "outputs": [],
   "source": []
  }
 ],
 "metadata": {
  "kernelspec": {
   "display_name": "Python 3 (ipykernel)",
   "language": "python",
   "name": "python3"
  },
  "language_info": {
   "codemirror_mode": {
    "name": "ipython",
    "version": 3
   },
   "file_extension": ".py",
   "mimetype": "text/x-python",
   "name": "python",
   "nbconvert_exporter": "python",
   "pygments_lexer": "ipython3",
   "version": "3.9.1"
  }
 },
 "nbformat": 4,
 "nbformat_minor": 5
}
