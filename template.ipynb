{
 "cells": [
  {
   "cell_type": "markdown",
   "id": "20cf4622-47c1-4d1b-ac98-6fa07a8d6919",
   "metadata": {},
   "source": [
    "# Day 1: Trebuchet?!"
   ]
  },
  {
   "cell_type": "markdown",
   "id": "9bcffd52-cf1c-4cd5-b09e-a026bdd3e5f8",
   "metadata": {},
   "source": [
    "## Read in test data"
   ]
  },
  {
   "cell_type": "code",
   "execution_count": 1,
   "id": "4c843fd1-1b7c-4147-8001-27cc2a133935",
   "metadata": {},
   "outputs": [],
   "source": [
    "# Read in dummy data\n",
    "d = \"\"\"add here\"\"\"\n",
    "instructions = d.split(\"\\n\")"
   ]
  },
  {
   "cell_type": "markdown",
   "metadata": {},
   "source": [
    "# Challenge day X\n",
    "\n",
    "Instructions here"
   ]
  },
  {
   "cell_type": "code",
   "execution_count": null,
   "id": "3f1e9809-4dca-4959-8f8e-9919eb8cbf9e",
   "metadata": {},
   "outputs": [
    {
     "name": "stdout",
     "output_type": "stream",
     "text": [
      "142\n"
     ]
    }
   ],
   "source": [
    "# Solution space\n"
   ]
  },
  {
   "cell_type": "markdown",
   "id": "2fbda7b7-3f5b-4432-9938-49b2b03dc260",
   "metadata": {},
   "source": [
    "# Actual data"
   ]
  },
  {
   "cell_type": "code",
   "execution_count": 3,
   "id": "43e53d00-a775-431d-9466-db27a13cffce",
   "metadata": {},
   "outputs": [],
   "source": [
    "# Load actual data\n",
    "file = \"challenge XX input.txt\"\n",
    "with open(file) as f:\n",
    "    challenge1Data = f.read().split(\"\\n\")\n",
    "\n",
    "instructions = challenge1Data.split(\"\\n\")"
   ]
  },
  {
   "cell_type": "code",
   "execution_count": 27,
   "id": "17293a49-b1dd-4cbd-a723-69d79e0c3bd5",
   "metadata": {},
   "outputs": [
    {
     "name": "stdout",
     "output_type": "stream",
     "text": [
      "54159\n"
     ]
    }
   ],
   "source": []
  },
  {
   "cell_type": "markdown",
   "id": "cdd50de0-0766-4d05-8892-4dec20cfd07d",
   "metadata": {},
   "source": [
    "# Part 2"
   ]
  },
  {
   "cell_type": "code",
   "execution_count": null,
   "metadata": {},
   "outputs": [],
   "source": []
  },
  {
   "cell_type": "code",
   "execution_count": null,
   "metadata": {},
   "outputs": [],
   "source": []
  },
  {
   "cell_type": "markdown",
   "id": "b34096b1-b787-43cf-a9fc-9ee678ab828a",
   "metadata": {},
   "source": [
    "## Part 2 real data"
   ]
  },
  {
   "cell_type": "code",
   "execution_count": null,
   "metadata": {},
   "outputs": [],
   "source": []
  },
  {
   "cell_type": "code",
   "execution_count": null,
   "metadata": {},
   "outputs": [],
   "source": []
  },
  {
   "cell_type": "code",
   "execution_count": null,
   "metadata": {},
   "outputs": [],
   "source": []
  }
 ],
 "metadata": {
  "kernelspec": {
   "display_name": "Python 3 (ipykernel)",
   "language": "python",
   "name": "python3"
  },
  "language_info": {
   "codemirror_mode": {
    "name": "ipython",
    "version": 3
   },
   "file_extension": ".py",
   "mimetype": "text/x-python",
   "name": "python",
   "nbconvert_exporter": "python",
   "pygments_lexer": "ipython3",
   "version": "3.9.1"
  }
 },
 "nbformat": 4,
 "nbformat_minor": 5
}
