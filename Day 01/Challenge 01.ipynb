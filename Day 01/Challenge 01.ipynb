{
 "cells": [
  {
   "cell_type": "markdown",
   "id": "20cf4622-47c1-4d1b-ac98-6fa07a8d6919",
   "metadata": {},
   "source": [
    "# Day 1: Trebuchet?!"
   ]
  },
  {
   "cell_type": "markdown",
   "id": "9bcffd52-cf1c-4cd5-b09e-a026bdd3e5f8",
   "metadata": {},
   "source": [
    "## Read in test data"
   ]
  },
  {
   "cell_type": "code",
   "execution_count": 8,
   "id": "4fa68db3-1b91-4527-b9e0-8428c52c58e7",
   "metadata": {},
   "outputs": [],
   "source": [
    "import re"
   ]
  },
  {
   "cell_type": "code",
   "execution_count": 1,
   "id": "4c843fd1-1b7c-4147-8001-27cc2a133935",
   "metadata": {},
   "outputs": [],
   "source": [
    "# Read in data\n",
    "d = \"\"\"1abc2\n",
    "pqr3stu8vwx\n",
    "a1b2c3d4e5f\n",
    "treb7uchet\"\"\""
   ]
  },
  {
   "cell_type": "code",
   "execution_count": 5,
   "id": "19b00c8e-dcdb-4ef2-9d0b-c68aebf539d2",
   "metadata": {},
   "outputs": [],
   "source": [
    "instructions = d.split(\"\\n\")"
   ]
  },
  {
   "cell_type": "code",
   "execution_count": 19,
   "id": "3f1e9809-4dca-4959-8f8e-9919eb8cbf9e",
   "metadata": {},
   "outputs": [
    {
     "name": "stdout",
     "output_type": "stream",
     "text": [
      "142\n"
     ]
    }
   ],
   "source": [
    "result = 0\n",
    "for instruction in instructions:\n",
    "    n = re.findall(r'\\d', instruction)\n",
    "    result += int(n[0] + n[-1])\n",
    "\n",
    "print(result)"
   ]
  },
  {
   "cell_type": "markdown",
   "id": "2fbda7b7-3f5b-4432-9938-49b2b03dc260",
   "metadata": {},
   "source": [
    "# Actual data"
   ]
  },
  {
   "cell_type": "code",
   "execution_count": 3,
   "id": "43e53d00-a775-431d-9466-db27a13cffce",
   "metadata": {},
   "outputs": [],
   "source": [
    "file = \"challenge 01 input.txt\"\n",
    "with open(file) as f:\n",
    "    challenge1Data = f.read().split(\"\\n\")"
   ]
  },
  {
   "cell_type": "code",
   "execution_count": 22,
   "id": "56cbdf04-295a-43f3-bdcd-08e29e78a399",
   "metadata": {},
   "outputs": [],
   "source": [
    "instructions = challenge1Data.split(\"\\n\")"
   ]
  },
  {
   "cell_type": "code",
   "execution_count": 27,
   "id": "17293a49-b1dd-4cbd-a723-69d79e0c3bd5",
   "metadata": {},
   "outputs": [
    {
     "name": "stdout",
     "output_type": "stream",
     "text": [
      "54159\n"
     ]
    }
   ],
   "source": [
    "result = 0\n",
    "for instruction in instructions:\n",
    "    n = re.findall(r'\\d', instruction)\n",
    "    result += int(n[0] + n[-1])\n",
    "\n",
    "print(result)"
   ]
  },
  {
   "cell_type": "markdown",
   "id": "cdd50de0-0766-4d05-8892-4dec20cfd07d",
   "metadata": {},
   "source": [
    "# Part 2"
   ]
  },
  {
   "cell_type": "code",
   "execution_count": 101,
   "id": "1c0101a0-1f7f-4e03-aaef-d9c432f248d8",
   "metadata": {},
   "outputs": [],
   "source": [
    "# Read in data\n",
    "d = \"\"\"two1nine\n",
    "eightwothree\n",
    "abcone2threexyz\n",
    "xtwone3four\n",
    "4nineeightseven2\n",
    "zoneight234\n",
    "7pqrstsixteen\"\"\"\n",
    "\n",
    "instructions = d.split(\"\\n\")"
   ]
  },
  {
   "cell_type": "code",
   "execution_count": 102,
   "id": "e310e6d4-5603-4254-ab3b-9676dfd273a9",
   "metadata": {},
   "outputs": [
    {
     "data": {
      "text/plain": [
       "['two1nine',\n",
       " 'eightwothree',\n",
       " 'abcone2threexyz',\n",
       " 'xtwone3four',\n",
       " '4nineeightseven2',\n",
       " 'zoneight234',\n",
       " '7pqrstsixteen']"
      ]
     },
     "execution_count": 102,
     "metadata": {},
     "output_type": "execute_result"
    }
   ],
   "source": [
    "instructions"
   ]
  },
  {
   "cell_type": "markdown",
   "id": "b34096b1-b787-43cf-a9fc-9ee678ab828a",
   "metadata": {},
   "source": [
    "## Part 2 real data"
   ]
  },
  {
   "cell_type": "code",
   "execution_count": 150,
   "id": "342bc7a5-c15f-4dba-ab13-0f1943861ae5",
   "metadata": {},
   "outputs": [
    {
     "name": "stdout",
     "output_type": "stream",
     "text": [
      "53866\n"
     ]
    }
   ],
   "source": [
    "result = 0\n",
    "for instruction in instructions:\n",
    "    x = instruction.replace(\"one\", \"one1one\")\n",
    "    x = x.replace(\"two\", \"two2two\")\n",
    "    x = x.replace(\"three\", \"three3three\")\n",
    "    x = x.replace(\"four\", \"fo4ur\")\n",
    "    x = x.replace(\"five\", \"fi5ve\")\n",
    "    x = x.replace(\"six\", \"si6ix\")\n",
    "    x = x.replace(\"seven\", \"se7en\")\n",
    "    x = x.replace(\"eight\", \"ei8ght\")\n",
    "    x = x.replace(\"nine\", \"ni9ine\")\n",
    "\n",
    "    instruction = x.replace(\"thirteen\", \"thirteen13thirteen\")\n",
    "    #print(instruction)\n",
    "    n = re.findall(r'\\d', instruction)\n",
    "    #print(n)\n",
    "    result += int(n[0] + n[-1])\n",
    " \n",
    "print(result)"
   ]
  },
  {
   "cell_type": "markdown",
   "id": "5b34dcc2-25b8-44f7-9f79-6a878ebd8ab2",
   "metadata": {},
   "source": [
    "## 53866 is the right number"
   ]
  },
  {
   "cell_type": "code",
   "execution_count": 104,
   "id": "10d35102-786e-463c-9c55-c4b1771de985",
   "metadata": {},
   "outputs": [],
   "source": [
    "instructions = challenge1Data.split(\"\\n\")"
   ]
  },
  {
   "cell_type": "code",
   "execution_count": 114,
   "id": "a7023ea1-363d-4e0e-8362-08745e26b676",
   "metadata": {},
   "outputs": [
    {
     "data": {
      "text/plain": [
       "'9sthree'"
      ]
     },
     "execution_count": 114,
     "metadata": {},
     "output_type": "execute_result"
    }
   ],
   "source": [
    "\"ninesthree\".replace(\"nine\", \"9\")"
   ]
  }
 ],
 "metadata": {
  "kernelspec": {
   "display_name": "Python 3 (ipykernel)",
   "language": "python",
   "name": "python3"
  },
  "language_info": {
   "codemirror_mode": {
    "name": "ipython",
    "version": 3
   },
   "file_extension": ".py",
   "mimetype": "text/x-python",
   "name": "python",
   "nbconvert_exporter": "python",
   "pygments_lexer": "ipython3",
   "version": "3.9.1"
  }
 },
 "nbformat": 4,
 "nbformat_minor": 5
}
