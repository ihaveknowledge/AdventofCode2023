{
 "cells": [
  {
   "cell_type": "code",
   "execution_count": 1,
   "id": "5a4309bb-988f-4806-a8a4-9e7e72375d69",
   "metadata": {},
   "outputs": [],
   "source": [
    "import os\n",
    "import sys\n",
    "import shutil"
   ]
  },
  {
   "cell_type": "code",
   "execution_count": 2,
   "id": "ba7af66e-c77f-40a7-b5e2-d28568f3dd45",
   "metadata": {},
   "outputs": [],
   "source": [
    "d = \"02\""
   ]
  },
  {
   "cell_type": "code",
   "execution_count": 3,
   "id": "ae15627d-0a2a-4c8f-ab20-996e16d74595",
   "metadata": {},
   "outputs": [
    {
     "name": "stdout",
     "output_type": "stream",
     "text": [
      "created folder :  Day 02\n"
     ]
    },
    {
     "data": {
      "text/plain": [
       "'C:/Users/msinclair/OneDrive - Lambeth Council/Sandbox/AdventOfCode2023/Day 02/Challenge02.ipynb'"
      ]
     },
     "execution_count": 3,
     "metadata": {},
     "output_type": "execute_result"
    }
   ],
   "source": [
    "MYDIR = (\"Day \" + d)\n",
    "CHECK_FOLDER = os.path.isdir(MYDIR)\n",
    "\n",
    "if not CHECK_FOLDER:\n",
    "    os.makedirs(MYDIR)\n",
    "    print(\"created folder : \", MYDIR)\n",
    "\n",
    "else:\n",
    "    print(MYDIR, \"folder already exists.\")\n",
    "\n",
    "    \n",
    "source = \"C:/Users/msinclair/OneDrive - Lambeth Council/Sandbox/AdventOfCode2023/template.ipynb\"\n",
    "destination = \"C:/Users/msinclair/OneDrive - Lambeth Council/Sandbox/AdventOfCode2023/\" + MYDIR + \"/Challenge\" + d + \".ipynb\"\n",
    "\n",
    "shutil.copy(source, destination)"
   ]
  }
 ],
 "metadata": {
  "kernelspec": {
   "display_name": "Python 3 (ipykernel)",
   "language": "python",
   "name": "python3"
  },
  "language_info": {
   "codemirror_mode": {
    "name": "ipython",
    "version": 3
   },
   "file_extension": ".py",
   "mimetype": "text/x-python",
   "name": "python",
   "nbconvert_exporter": "python",
   "pygments_lexer": "ipython3",
   "version": "3.9.1"
  }
 },
 "nbformat": 4,
 "nbformat_minor": 5
}
